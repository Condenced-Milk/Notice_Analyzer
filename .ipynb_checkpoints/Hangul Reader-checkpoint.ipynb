{
 "cells": [
  {
   "cell_type": "code",
   "execution_count": 61,
   "metadata": {},
   "outputs": [],
   "source": [
    "import numpy as np\n",
    "import pandas as pd\n",
    "import matplotlib.pyplot as plt"
   ]
  },
  {
   "cell_type": "code",
   "execution_count": 62,
   "metadata": {},
   "outputs": [
    {
     "data": {
      "text/html": [
       "<div>\n",
       "<style scoped>\n",
       "    .dataframe tbody tr th:only-of-type {\n",
       "        vertical-align: middle;\n",
       "    }\n",
       "\n",
       "    .dataframe tbody tr th {\n",
       "        vertical-align: top;\n",
       "    }\n",
       "\n",
       "    .dataframe thead th {\n",
       "        text-align: right;\n",
       "    }\n",
       "</style>\n",
       "<table border=\"1\" class=\"dataframe\">\n",
       "  <thead>\n",
       "    <tr style=\"text-align: right;\">\n",
       "      <th></th>\n",
       "      <th>0</th>\n",
       "      <th>1</th>\n",
       "      <th>2</th>\n",
       "      <th>3</th>\n",
       "    </tr>\n",
       "  </thead>\n",
       "  <tbody>\n",
       "    <tr>\n",
       "      <th>0</th>\n",
       "      <td>[4학년] 2020 공과대학 캡스톤디자인·졸업작품 경진대회 참가 신청 안내 (기한 ...</td>\n",
       "      <td>20.06.04</td>\n",
       "      <td>106</td>\n",
       "      <td>NaN</td>\n",
       "    </tr>\n",
       "    <tr>\n",
       "      <th>1</th>\n",
       "      <td>[★★★ 기말시험 시간표 안내(강의실변경) ★★★]</td>\n",
       "      <td>20.06.02</td>\n",
       "      <td>409</td>\n",
       "      <td>NaN</td>\n",
       "    </tr>\n",
       "    <tr>\n",
       "      <th>2</th>\n",
       "      <td>[★★★1학기 기말 시험 실시 안내(6.08(월) ~ 6.19(금)) ★★★]</td>\n",
       "      <td>20.06.02</td>\n",
       "      <td>154</td>\n",
       "      <td>NaN</td>\n",
       "    </tr>\n",
       "    <tr>\n",
       "      <th>3</th>\n",
       "      <td>[★★★ 2020년도 1학기 LINC+ 캡스톤결과보고서 제출 안내 ★★★]</td>\n",
       "      <td>20.05.28</td>\n",
       "      <td>266</td>\n",
       "      <td>NaN</td>\n",
       "    </tr>\n",
       "    <tr>\n",
       "      <th>4</th>\n",
       "      <td>[★★★ 코로나 19관련 2020학년도 1학기 학사일정 변경안내 ★★★]</td>\n",
       "      <td>20.04.20</td>\n",
       "      <td>760</td>\n",
       "      <td>NaN</td>\n",
       "    </tr>\n",
       "  </tbody>\n",
       "</table>\n",
       "</div>"
      ],
      "text/plain": [
       "                                                   0         1    2   3\n",
       "0  [4학년] 2020 공과대학 캡스톤디자인·졸업작품 경진대회 참가 신청 안내 (기한 ...  20.06.04  106 NaN\n",
       "1                       [★★★ 기말시험 시간표 안내(강의실변경) ★★★]  20.06.02  409 NaN\n",
       "2        [★★★1학기 기말 시험 실시 안내(6.08(월) ~ 6.19(금)) ★★★]  20.06.02  154 NaN\n",
       "3          [★★★ 2020년도 1학기 LINC+ 캡스톤결과보고서 제출 안내 ★★★]  20.05.28  266 NaN\n",
       "4           [★★★ 코로나 19관련 2020학년도 1학기 학사일정 변경안내 ★★★]  20.04.20  760 NaN"
      ]
     },
     "execution_count": 62,
     "metadata": {},
     "output_type": "execute_result"
    }
   ],
   "source": [
    "# 1. 데이터 불러오고 형태를 확인한다\n",
    "academic = pd.read_csv('DataScience_Term/academic.csv', encoding='cp949', header=None)\n",
    "academic.head()"
   ]
  },
  {
   "cell_type": "code",
   "execution_count": 63,
   "metadata": {},
   "outputs": [
    {
     "name": "stdout",
     "output_type": "stream",
     "text": [
      "데이터 모양 :  (1143, 4)\n"
     ]
    }
   ],
   "source": [
    "print('데이터 모양 : ', academic.shape)"
   ]
  },
  {
   "cell_type": "code",
   "execution_count": 64,
   "metadata": {},
   "outputs": [
    {
     "name": "stdout",
     "output_type": "stream",
     "text": [
      "[['[4학년] 2020 공과대학 캡스톤디자인·졸업작품 경진대회 참가 신청 안내 (기한 6.15.(월) 18시까지)'\n",
      "  '20.06.04' 106]\n",
      " ['[★★★ 기말시험 시간표 안내(강의실변경) ★★★]' '20.06.02' 409]\n",
      " ['[★★★1학기 기말 시험 실시 안내(6.08(월) ~ 6.19(금)) ★★★]' '20.06.02' 154]\n",
      " ...\n",
      " ['[인증-필독] 수강신청시 교과목이수체계도 확인 및 수강능력평가서 제출 안내' '12.01.31' 586]\n",
      " ['[전체] 수강신청 기간 및 방법 안내' '12.01.31' 685]\n",
      " ['[인증] 수강신청 기간 안내(2월1일~2월2일)' '12.01.30' 580]]\n"
     ]
    },
    {
     "data": {
      "text/plain": [
       "(1143, 3)"
      ]
     },
     "execution_count": 64,
     "metadata": {},
     "output_type": "execute_result"
    }
   ],
   "source": [
    "# 2. 데이터 전처리\n",
    "\n",
    "## 3번째 행 없애기\n",
    "academic_data = np.array(academic)\n",
    "academic_data = academic_data[:,0:3]\n",
    "print(academic_data)\n",
    "academic_data.shape"
   ]
  },
  {
   "cell_type": "code",
   "execution_count": 65,
   "metadata": {
    "scrolled": false
   },
   "outputs": [],
   "source": [
    "# 3. 데이터 분석\n",
    "\n",
    "from konlpy.tag import Okt\n",
    "okt = Okt()\n",
    "\n",
    "rowKeywords = []\n",
    "for i in range(0,academic.shape[0]) :\n",
    "    if academic.loc[i,0] != None :\n",
    "        oneRow = okt.nouns(academic.loc[i,0])\n",
    "        oneRow = [n for n in oneRow if len(n)>1]  #한 글자 명사를 제거해줌\n",
    "        oneRow = list(set(oneRow)) # 키워드에서 중복을 제거해줌\n",
    "        rowKeywords.append(oneRow)\n",
    "        \n",
    "# print(rowKeywords)\n",
    "## rowKeywords에 각 제목당 키워드들을 저장해둠"
   ]
  },
  {
   "cell_type": "code",
   "execution_count": null,
   "metadata": {},
   "outputs": [],
   "source": []
  },
  {
   "cell_type": "code",
   "execution_count": 36,
   "metadata": {},
   "outputs": [
    {
     "data": {
      "text/plain": [
       "안내        905\n",
       "학년        491\n",
       "학기        435\n",
       "신청        255\n",
       "졸업        198\n",
       "수강신청      157\n",
       "제출        127\n",
       "확인        126\n",
       "1학기       101\n",
       "전체        100\n",
       "계절         91\n",
       "4학년        91\n",
       "2학기        87\n",
       "18시        79\n",
       "학생         75\n",
       "기간         73\n",
       "수강         72\n",
       "계획         65\n",
       "2016       64\n",
       "결과         64\n",
       "교과목        62\n",
       "인증         62\n",
       "영어         62\n",
       "추가         57\n",
       "2019       56\n",
       "이수         55\n",
       "2016학년     54\n",
       "인정         54\n",
       "기한         53\n",
       "모집         53\n",
       "변경         52\n",
       "예정자        51\n",
       "2015       51\n",
       "인턴십        51\n",
       "설계         51\n",
       "2017       49\n",
       "2018       49\n",
       "프로젝트       48\n",
       "스톤         47\n",
       "사업         45\n",
       "장학금        45\n",
       "명단         45\n",
       "후기         44\n",
       "실시         44\n",
       "신입생        43\n",
       "2019학년     43\n",
       "논문         43\n",
       "전공         43\n",
       "백마         43\n",
       "취소         42\n",
       "dtype: int64"
      ]
     },
     "execution_count": 36,
     "metadata": {},
     "output_type": "execute_result"
    }
   ],
   "source": [
    "# 그냥 빈도수 측정\n",
    "# topKeywords = pd.Series(allKeywords)\n",
    "# result = topKeywords.value_counts().head(50)\n",
    "# result"
   ]
  },
  {
   "cell_type": "code",
   "execution_count": 54,
   "metadata": {},
   "outputs": [],
   "source": []
  },
  {
   "cell_type": "code",
   "execution_count": null,
   "metadata": {},
   "outputs": [],
   "source": [
    "# 4. 데이터 모델링 evaluation\n",
    "# 4-1 각각의 키워드에 제목들 나열해서 보여주기\n",
    "# 4-2 날자별 데이터 시각화"
   ]
  }
 ],
 "metadata": {
  "kernelspec": {
   "display_name": "Python 3",
   "language": "python",
   "name": "python3"
  },
  "language_info": {
   "codemirror_mode": {
    "name": "ipython",
    "version": 3
   },
   "file_extension": ".py",
   "mimetype": "text/x-python",
   "name": "python",
   "nbconvert_exporter": "python",
   "pygments_lexer": "ipython3",
   "version": "3.7.6"
  }
 },
 "nbformat": 4,
 "nbformat_minor": 4
}
